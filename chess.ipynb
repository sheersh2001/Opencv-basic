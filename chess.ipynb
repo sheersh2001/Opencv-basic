{
 "cells": [
  {
   "cell_type": "code",
   "execution_count": 13,
   "id": "709f5c43",
   "metadata": {},
   "outputs": [],
   "source": [
    "import cv2\n",
    "import numpy"
   ]
  },
  {
   "cell_type": "code",
   "execution_count": 14,
   "id": "6c2ac067",
   "metadata": {},
   "outputs": [],
   "source": [
    "#create an array\n",
    "chess=numpy.zeros([800,800,3])"
   ]
  },
  {
   "cell_type": "code",
   "execution_count": 15,
   "id": "f9adad98",
   "metadata": {},
   "outputs": [],
   "source": [
    "x=100\n",
    "z=200\n",
    "while x<800:\n",
    "    for i in range(x,z):\n",
    "        r=100\n",
    "        s=200\n",
    "        while r<800:\n",
    "            for j in range(r,s):\n",
    "                chess[i,j]=[255,255,255]\n",
    "            r+=200\n",
    "            s+=200\n",
    "    x+=200\n",
    "    z+=200\n",
    "x=0\n",
    "z=100\n",
    "while x<700:\n",
    "    for i in range(x,z):\n",
    "        r=0\n",
    "        s=100\n",
    "        while r<800:\n",
    "            for j in range(r,s):\n",
    "                chess[i,j]=[255,255,255]\n",
    "            r+=200\n",
    "            s+=200\n",
    "    x+=200\n",
    "    z+=200"
   ]
  },
  {
   "cell_type": "code",
   "execution_count": 16,
   "id": "4f1020cd",
   "metadata": {},
   "outputs": [],
   "source": [
    "#display\n",
    "cv2.imshow(\"chess\",chess)\n",
    "cv2.waitKey()\n",
    "cv2.destroyAllWindows()"
   ]
  },
  {
   "cell_type": "code",
   "execution_count": null,
   "id": "ee547f96",
   "metadata": {},
   "outputs": [],
   "source": []
  }
 ],
 "metadata": {
  "kernelspec": {
   "display_name": "Python 3",
   "language": "python",
   "name": "python3"
  },
  "language_info": {
   "codemirror_mode": {
    "name": "ipython",
    "version": 3
   },
   "file_extension": ".py",
   "mimetype": "text/x-python",
   "name": "python",
   "nbconvert_exporter": "python",
   "pygments_lexer": "ipython3",
   "version": "3.8.8"
  }
 },
 "nbformat": 4,
 "nbformat_minor": 5
}
