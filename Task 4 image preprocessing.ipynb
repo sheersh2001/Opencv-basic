{
 "cells": [
  {
   "cell_type": "code",
   "execution_count": 254,
   "id": "8bd7ec68",
   "metadata": {},
   "outputs": [],
   "source": [
    "import cv2\n",
    "import numpy"
   ]
  },
  {
   "cell_type": "code",
   "execution_count": 264,
   "id": "5bf4daa5",
   "metadata": {},
   "outputs": [],
   "source": [
    "#import image 1\n",
    "Elon=cv2.imread(\"Elon.jpg\")"
   ]
  },
  {
   "cell_type": "code",
   "execution_count": 265,
   "id": "f380a3f3",
   "metadata": {},
   "outputs": [],
   "source": [
    "#copy of image 1\n",
    "temp=cv2.imread(\"Elon.jpg\")"
   ]
  },
  {
   "cell_type": "code",
   "execution_count": 266,
   "id": "79566b02",
   "metadata": {},
   "outputs": [],
   "source": [
    "#import image 2\n",
    "Bezos=cv2.imread(\"Bezos.jpg\")"
   ]
  },
  {
   "cell_type": "code",
   "execution_count": 267,
   "id": "5089adad",
   "metadata": {},
   "outputs": [],
   "source": [
    "#resize both the images\n",
    "Elon=cv2.resize(Elon,(400,500))\n",
    "Bezos=cv2.resize(Bezos,(500,500))"
   ]
  },
  {
   "cell_type": "code",
   "execution_count": 268,
   "id": "c85aacc8",
   "metadata": {},
   "outputs": [],
   "source": [
    "#Display image 1 and image 2 after resizing\n",
    "cv2.imshow(\"Elon\",Elon)\n",
    "cv2.waitKey()\n",
    "cv2.destroyAllWindows()\n",
    "cv2.imshow(\"Bezos\",Bezos)\n",
    "cv2.waitKey()\n",
    "cv2.destroyAllWindows()"
   ]
  },
  {
   "cell_type": "code",
   "execution_count": 269,
   "id": "b6981062",
   "metadata": {},
   "outputs": [],
   "source": [
    "#swap a portion of image 1 to the portion of image 2\n",
    "for i in range(50,250):\n",
    "    for j in range(110,320):\n",
    "        temp[i,j]=Bezos[i,j]\n",
    "        Bezos[i,j]=Elon[i,j]\n",
    "        Elon[i,j]=temp[i,j]"
   ]
  },
  {
   "cell_type": "code",
   "execution_count": 270,
   "id": "3a741b65",
   "metadata": {},
   "outputs": [],
   "source": [
    "#Display image 1 and image 2 after swapping\n",
    "cv2.imshow(\"Elon\",Elon)\n",
    "cv2.waitKey()\n",
    "cv2.destroyAllWindows()\n",
    "cv2.imshow(\"Bezos\",Bezos)\n",
    "cv2.waitKey()\n",
    "cv2.destroyAllWindows()"
   ]
  },
  {
   "cell_type": "code",
   "execution_count": 271,
   "id": "9c570b2a",
   "metadata": {},
   "outputs": [],
   "source": [
    "#Concat both the images\n",
    "Elzos=numpy.append(Elon,Bezos,axis=1)"
   ]
  },
  {
   "cell_type": "code",
   "execution_count": 272,
   "id": "6337f96c",
   "metadata": {},
   "outputs": [],
   "source": [
    "#display the final image\n",
    "cv2.imshow(\"Elozos\",Elzos)\n",
    "cv2.waitKey()\n",
    "cv2.destroyAllWindows()\n"
   ]
  },
  {
   "cell_type": "code",
   "execution_count": null,
   "id": "694714e8",
   "metadata": {},
   "outputs": [],
   "source": []
  }
 ],
 "metadata": {
  "kernelspec": {
   "display_name": "Python 3",
   "language": "python",
   "name": "python3"
  },
  "language_info": {
   "codemirror_mode": {
    "name": "ipython",
    "version": 3
   },
   "file_extension": ".py",
   "mimetype": "text/x-python",
   "name": "python",
   "nbconvert_exporter": "python",
   "pygments_lexer": "ipython3",
   "version": "3.8.8"
  }
 },
 "nbformat": 4,
 "nbformat_minor": 5
}
